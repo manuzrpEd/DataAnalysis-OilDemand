{
 "cells": [
  {
   "cell_type": "markdown",
   "id": "e1d1b4ae",
   "metadata": {},
   "source": [
    "import libraries"
   ]
  },
  {
   "cell_type": "code",
   "execution_count": 180,
   "id": "b9503992",
   "metadata": {},
   "outputs": [],
   "source": [
    "import pandas as pd\n",
    "import numpy as np\n",
    "import matplotlib.pyplot as plt"
   ]
  },
  {
   "cell_type": "markdown",
   "id": "5d5fad4f",
   "metadata": {},
   "source": [
    "read 3 sources of data"
   ]
  },
  {
   "cell_type": "code",
   "execution_count": 181,
   "id": "324a1853",
   "metadata": {},
   "outputs": [],
   "source": [
    "vp=pd.read_excel(r'C:\\Users\\manuz\\Desktop\\Adm\\JobMarket\\Jobs\\Verisk\\Practical Scenario Assessment.xlsx','Vehicle Population ')\n",
    "fe=pd.read_excel(r'C:\\Users\\manuz\\Desktop\\Adm\\JobMarket\\Jobs\\Verisk\\Practical Scenario Assessment.xlsx','Fuel Efficiency')\n",
    "mt=pd.read_excel(r'C:\\Users\\manuz\\Desktop\\Adm\\JobMarket\\Jobs\\Verisk\\Practical Scenario Assessment.xlsx','Miles Travelled')"
   ]
  },
  {
   "cell_type": "markdown",
   "id": "70301a53",
   "metadata": {},
   "source": [
    "conversion factors"
   ]
  },
  {
   "cell_type": "code",
   "execution_count": 182,
   "id": "10f9f17b",
   "metadata": {},
   "outputs": [],
   "source": [
    "cf=pd.read_excel(r'C:\\Users\\manuz\\Desktop\\Adm\\JobMarket\\Jobs\\Verisk\\Practical Scenario Assessment.xlsx','Conversion factors',header=None)"
   ]
  },
  {
   "cell_type": "markdown",
   "id": "25cad503",
   "metadata": {},
   "source": [
    "code for output"
   ]
  },
  {
   "cell_type": "code",
   "execution_count": 183,
   "id": "9dfebc5d",
   "metadata": {},
   "outputs": [],
   "source": [
    "vp['Power Train Type']=vp['Power Train Type'].replace('Conventianal', 'Conventional')\n",
    "values=['Conventional',\n",
    "'Hybrid',\n",
    "'Electric',\n",
    "'Fuel cell electric',\n",
    "'Other',\n",
    "'Plug-in hybrid and electric'\n",
    "]\n",
    "vp=vp.loc[(vp['Fuel Type']=='Diesel') | (vp['Fuel Type']=='Gasoline') | (vp['Fuel Type']=='LPG')]\n",
    "output=pd.DataFrame()\n",
    "for v in values:\n",
    "    o=vp.loc[vp['Power Train Type']==v]\n",
    "    o=o.groupby(['Power Train Type']).sum()/1000\n",
    "    if len(o)==0:\n",
    "        d = pd.DataFrame(np.zeros((1, len(o.columns))))\n",
    "        d.columns=o.columns\n",
    "        d=d.rename(index={0: v})\n",
    "        output=pd.concat([output, d])\n",
    "    else:\n",
    "        output=pd.concat([output, o])\n",
    "output['Country']='Indonesia'\n",
    "output['Metric']='Vehicle population'\n",
    "output['Unit']='million'\n",
    "output['Power Train Type'] = output.index\n",
    "output=output.reset_index(drop=True)\n",
    "output.insert(0, 'Unit', output.pop('Unit'))\n",
    "output.insert(0, 'Metric', output.pop('Metric'))\n",
    "output.insert(0, 'Power Train Type', output.pop('Power Train Type'))\n",
    "output.insert(0, 'Country', output.pop('Country'))\n",
    "output.to_csv(r'outptut.csv',index=False)"
   ]
  },
  {
   "cell_type": "markdown",
   "id": "b45434be",
   "metadata": {},
   "source": [
    "code for output2"
   ]
  },
  {
   "cell_type": "markdown",
   "id": "24fbfb0a",
   "metadata": {},
   "source": [
    "Miles Travelled"
   ]
  },
  {
   "cell_type": "code",
   "execution_count": 184,
   "id": "7356b701",
   "metadata": {},
   "outputs": [],
   "source": [
    "miles_km=cf.loc[cf[0]==\"Mile / Km \"]\n",
    "miles_km=miles_km.at[0,1]\n",
    "\n",
    "l_barrel=cf.loc[cf[0]==\"Litres / barrel\"]\n",
    "l_barrel=l_barrel.at[1,1]\n",
    "\n",
    "for i in range(len(mt.columns)):\n",
    "    if type(mt.columns[i])==int:\n",
    "        mt[mt.columns[i]]=1000*miles_km*mt[mt.columns[i]]/(100)\n",
    "        # kms by year divided by 100: liters by year\n",
    "        mt[mt.columns[i]]=mt[mt.columns[i]]/365\n",
    "        # liters by day\n",
    "        mt[mt.columns[i]]=l_barrel*mt[mt.columns[i]]\n",
    "        # barrels by day\n",
    "        \n",
    "mt=mt.reset_index(drop=True)\n",
    "mt=mt.drop(['Region','Country','Metric','Unit'],axis=1)\n",
    "mt=mt.add_prefix('stub_')\n",
    "mt=mt.rename(columns={\"stub_Fuel Type\": \"Fuel Type\"})\n",
    "mt=pd.wide_to_long(mt, stubnames='stub_', i=['Fuel Type'], j='Year')\n",
    "mt=mt.reset_index(drop=False)\n",
    "mt=mt.rename(columns={'stub_': 'Value_mt'})"
   ]
  },
  {
   "cell_type": "markdown",
   "id": "8e32abac",
   "metadata": {},
   "source": [
    "Vehicles Population"
   ]
  },
  {
   "cell_type": "code",
   "execution_count": 185,
   "id": "376c3f19",
   "metadata": {},
   "outputs": [],
   "source": [
    "vp=vp.reset_index(drop=True)\n",
    "vp=vp.drop(['Region','Country','Metric','Unit'],axis=1)\n",
    "vp=vp.add_prefix('stub_')\n",
    "vp=vp.rename(columns={\"stub_Fuel Type\": \"Fuel Type\", \"stub_Power Train Type\": \"Power Train Type\"})\n",
    "vp=pd.wide_to_long(vp, stubnames='stub_', i=['Fuel Type','Power Train Type'], j='Year')\n",
    "vp=vp.reset_index(drop=False)\n",
    "vp=vp.rename(columns={'stub_': 'Value_vp'})\n",
    "\n",
    "vp=vp.groupby(['Fuel Type','Year','Power Train Type']).sum().reset_index()"
   ]
  },
  {
   "cell_type": "markdown",
   "id": "05b17ecf",
   "metadata": {},
   "source": [
    "Fuel Efficiency"
   ]
  },
  {
   "cell_type": "code",
   "execution_count": 186,
   "id": "898368fa",
   "metadata": {},
   "outputs": [],
   "source": [
    "fe['Value ']=fe['Value ']\n",
    "fe=fe.rename(columns={'Value ': 'Value_fe_l100kms'})\n",
    "\n",
    "values=['Gasoline',\n",
    "'Diesel',\n",
    "'LPG'\n",
    "]\n",
    "fe=fe.reset_index(drop=True)\n",
    "fe=fe.drop(['Region','Country','Metric','Unit'],axis=1)"
   ]
  },
  {
   "cell_type": "markdown",
   "id": "9c5a8225",
   "metadata": {},
   "source": [
    "Merges"
   ]
  },
  {
   "cell_type": "code",
   "execution_count": 187,
   "id": "2bf59bea",
   "metadata": {},
   "outputs": [],
   "source": [
    "df=fe.merge(vp,how='inner',on=['Fuel Type','Year','Power Train Type'])\n",
    "df['fe_vp_prod']=df['Value_fe_l100kms']*df['Value_vp']*1000\n",
    "df=df.groupby(['Fuel Type','Year'])['fe_vp_prod'].sum().reset_index()\n",
    "df=df.merge(mt,how='inner',on=['Fuel Type','Year'])\n",
    "df['barrels/day']=df['Value_mt']*df['fe_vp_prod']\n",
    "df=df[['Fuel Type','Year','barrels/day']]"
   ]
  },
  {
   "cell_type": "markdown",
   "id": "2acd2660",
   "metadata": {},
   "source": [
    "Diesel, Gasoline, LPG and Total"
   ]
  },
  {
   "cell_type": "code",
   "execution_count": 188,
   "id": "4234bbf9",
   "metadata": {},
   "outputs": [],
   "source": [
    "diesel=df.loc[df['Fuel Type']==\"Diesel\"].reset_index(drop=True)\n",
    "diesel=diesel[['barrels/day']].T.reset_index()\n",
    "diesel=diesel.rename(columns={\"index\": \"Unit\"})\n",
    "diesel['Country']=\"Indonesia\"\n",
    "diesel['Metric']=\"Diesel demand\"\n",
    "diesel['Sector']=\"Road\"\n",
    "for i in range(27):\n",
    "    diesel=diesel.rename(columns={i:i+2014})\n",
    "diesel.insert(0, 'Unit', diesel.pop('Unit'))\n",
    "diesel.insert(0, 'Sector', diesel.pop('Sector'))\n",
    "diesel.insert(0, 'Metric', diesel.pop('Metric'))\n",
    "diesel.insert(0, 'Country', diesel.pop('Country'))\n",
    "\n",
    "Gasoline=df.loc[df['Fuel Type']==\"Gasoline\"].reset_index(drop=True)\n",
    "Gasoline=Gasoline[['barrels/day']].T.reset_index()\n",
    "Gasoline=Gasoline.rename(columns={\"index\": \"Unit\"})\n",
    "Gasoline['Country']=\"Indonesia\"\n",
    "Gasoline['Metric']=\"Gasoline demand\"\n",
    "Gasoline['Sector']=\"Road\"\n",
    "for i in range(27):\n",
    "    Gasoline=Gasoline.rename(columns={i:i+2014})\n",
    "Gasoline.insert(0, 'Unit', Gasoline.pop('Unit'))\n",
    "Gasoline.insert(0, 'Sector', Gasoline.pop('Sector'))\n",
    "Gasoline.insert(0, 'Metric', Gasoline.pop('Metric'))\n",
    "Gasoline.insert(0, 'Country', Gasoline.pop('Country'))\n",
    "\n",
    "LPG=df.loc[df['Fuel Type']==\"LPG\"].reset_index(drop=True)\n",
    "LPG=LPG[['barrels/day']].T.reset_index()\n",
    "LPG=LPG.rename(columns={\"index\": \"Unit\"})\n",
    "LPG['Country']=\"Indonesia\"\n",
    "LPG['Metric']=\"LPG\"\n",
    "LPG['Sector']=\"Road\"\n",
    "for i in range(27):\n",
    "    LPG=LPG.rename(columns={i:i+2014})\n",
    "LPG.insert(0, 'Unit', LPG.pop('Unit'))\n",
    "LPG.insert(0, 'Sector', LPG.pop('Sector'))\n",
    "LPG.insert(0, 'Metric', LPG.pop('Metric'))\n",
    "LPG.insert(0, 'Country', LPG.pop('Country'))\n",
    "\n",
    "Total=diesel+LPG+Gasoline\n",
    "Total['Country']=\"Indonesia\"\n",
    "Total['Metric']=\"Total oil demand\"\n",
    "Total['Sector']=\"Road\"\n",
    "Total['Unit']=\"barrels/day\""
   ]
  },
  {
   "cell_type": "code",
   "execution_count": 189,
   "id": "56ff3e10",
   "metadata": {},
   "outputs": [],
   "source": [
    "output2=pd.concat([Gasoline, diesel,LPG,Total])   \n",
    "output2.to_csv(r'outptut2.csv',index=False)"
   ]
  },
  {
   "cell_type": "markdown",
   "id": "58c18e6b",
   "metadata": {},
   "source": [
    "Visualisation"
   ]
  },
  {
   "cell_type": "code",
   "execution_count": 190,
   "id": "2b225646",
   "metadata": {
    "scrolled": true
   },
   "outputs": [
    {
     "data": {
      "image/png": "[encoded data removed]",
      "text/plain": [
       "<Figure size 432x288 with 1 Axes>"
      ]
     },
     "metadata": {
      "needs_background": "light"
     },
     "output_type": "display_data"
    }
   ],
   "source": [
    "output=output.drop(['Country','Metric','Unit'],axis=1)\n",
    "output=output.set_index('Power Train Type').T\n",
    "plt.plot(output.index,output['Conventional'],label=\"Conventional\")\n",
    "plt.plot(output.index,output['Hybrid'],label=\"Hybrid\")\n",
    "plt.plot(output.index,output['Electric'],label=\"Electric\")\n",
    "plt.plot(output.index,output['Other'],label=\"Other\")\n",
    "plt.plot(output.index,output['Plug-in hybrid and electric'],label=\"Plug-in hybrid and electric\")\n",
    "plt.legend(loc=\"best\")\n",
    "plt.title(\"Vehicle Population\")\n",
    "plt.xlabel(\"Year\")\n",
    "plt.ylabel(\"Vehicle Population (million)\")\n",
    "plt.show()"
   ]
  },
  {
   "cell_type": "code",
   "execution_count": 191,
   "id": "0426881e",
   "metadata": {},
   "outputs": [
    {
     "data": {
      "image/png": "[encoded data removed]",
      "text/plain": [
       "<Figure size 432x288 with 1 Axes>"
      ]
     },
     "metadata": {
      "needs_background": "light"
     },
     "output_type": "display_data"
    }
   ],
   "source": [
    "output2=output2.drop(['Country','Sector','Unit'],axis=1)\n",
    "output2=output2.set_index('Metric').T\n",
    "plt.plot(output2.index,output2['Gasoline demand'],label=\"Gasoline demand\")\n",
    "plt.plot(output2.index,output2['Diesel demand'],label=\"Diesel demand\")\n",
    "plt.plot(output2.index,output2['LPG'],label=\"LPG\")\n",
    "# plt.plot(output2.index,output2['Total oil demand'],label=\"Total oil demand\")\n",
    "plt.legend(loc=\"best\")\n",
    "plt.title(\"Oil Demand\")\n",
    "plt.xlabel(\"Year\")\n",
    "plt.ylabel(\"Barrels/day\")\n",
    "plt.show()"
   ]
  }
 ],
 "metadata": {
  "kernelspec": {
   "display_name": "Python 3 (ipykernel)",
   "language": "python",
   "name": "python3"
  },
  "language_info": {
   "codemirror_mode": {
    "name": "ipython",
    "version": 3
   },
   "file_extension": ".py",
   "mimetype": "text/x-python",
   "name": "python",
   "nbconvert_exporter": "python",
   "pygments_lexer": "ipython3",
   "version": "3.9.7"
  }
 },
 "nbformat": 4,
 "nbformat_minor": 5
}
